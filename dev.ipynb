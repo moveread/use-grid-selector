{
 "cells": [
  {
   "cell_type": "code",
   "execution_count": 5,
   "metadata": {},
   "outputs": [
    {
     "data": {
      "text/plain": [
       "[ \u001b[33m118\u001b[39m, \u001b[33m38\u001b[39m ]"
      ]
     },
     "execution_count": 5,
     "metadata": {},
     "output_type": "execute_result"
    }
   ],
   "source": [
    "export type Vec2 = [number, number];\n",
    "/** Functor map for `Vec2` */\n",
    "export const map = (f: (x: number) => number, v: Vec2): Vec2 => [f(v[0]), f(v[1])]\n",
    "/** Element-wise reduce */\n",
    "export const reduce = (f: (prev: number, curr: number) => number, v: Vec2, ...vs: Vec2[]): Vec2 => [\n",
    "  vs.reduce((p, x) => f(p, x[0]), v[0]),\n",
    "  vs.reduce((p, x) => f(p, x[1]), v[1]),\n",
    "]\n",
    "/** Elementwise `u * v * ...` */\n",
    "export const prod = (u: Vec2, ...vs: Vec2[]): Vec2 => reduce((x, y) => x*y, u, ...vs)\n",
    "/** Elementwise `(((u / v) / ...) / ...)` */\n",
    "export const div = (u: Vec2, ...vs: Vec2[]): Vec2 => reduce((x, y) => x/y, u, ...vs)\n",
    "/** `u + v + ...` */\n",
    "export const add = (u: Vec2, ...vs: Vec2[]): Vec2 => reduce((x, y) => x+y, u, ...vs)\n",
    "/** `u - v - ...` */\n",
    "export const sub = (u: Vec2, ...vs: Vec2[]): Vec2 => reduce((x, y) => x-y, u, ...vs)\n",
    "/** Euclidian distance between u and v */\n",
    "export const dist = (u: Vec2, v: Vec2): number => (u[0]-v[0])**2 + (u[1]-v[1])**2\n",
    "const clamp1d = (xmin: number, x: number, xmax: number) => Math.max(xmin, Math.min(x, xmax))\n",
    "const clamp2d = (vmin: Vec2, v: Vec2, vmax: Vec2): Vec2 =>\n",
    "  [clamp1d(vmin[0], v[0], vmax[0]), clamp1d(vmin[1], v[1], vmax[1])]\n",
    "/** Your usual 1d clamp */\n",
    "export function clamp(xmin: number, x: number, xmax: number): number;\n",
    "/** Elementwise clamp */\n",
    "export function clamp(vmin: Vec2, v: Vec2, vmax: Vec2): Vec2\n",
    "export function clamp(x, y, z): number | Vec2 {\n",
    "  return typeof x === 'number' ? clamp1d(x, y, z) : clamp2d(x, y, z)\n",
    "}"
   ]
  }
 ],
 "metadata": {
  "kernelspec": {
   "display_name": "Deno",
   "language": "typescript",
   "name": "deno"
  },
  "language_info": {
   "file_extension": ".ts",
   "mimetype": "text/x.typescript",
   "name": "typescript",
   "nb_converter": "script",
   "pygments_lexer": "typescript",
   "version": "5.3.3"
  }
 },
 "nbformat": 4,
 "nbformat_minor": 2
}
