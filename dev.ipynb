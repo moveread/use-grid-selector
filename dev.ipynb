{
 "cells": [
  {
   "cell_type": "code",
   "execution_count": 2,
   "metadata": {},
   "outputs": [
    {
     "name": "stdout",
     "output_type": "stream",
     "text": [
      "[Message]: Hello\n",
      "[Message]: there\n",
      "[Message]: fellas.\n",
      "[Message]: How\n",
      "[Message]: are\n",
      "[Message]: y'all?\n",
      "[Message]: Cheers!\n"
     ]
    }
   ],
   "source": [
    "export const delay = (secs: number) => new Promise(r => setTimeout(r, 1e3*secs))\n",
    "\n",
    "\n",
    "\n",
    "const xs = managedAsync<string, string>()\n",
    "\n",
    "async function pushData() {\n",
    "  const messages = ['Hello', 'there', 'fellas.', 'How', 'are', \"y'all?\", 'Cheers!']\n",
    "  for (const m of messages) {\n",
    "    await delay(2)\n",
    "    xs.push(m)\n",
    "  }\n",
    "  xs.end()\n",
    "}\n",
    "\n",
    "pushData()\n",
    "for await (const m of xs) {\n",
    "  console.log('[Message]:', m)\n",
    "}"
   ]
  }
 ],
 "metadata": {
  "kernelspec": {
   "display_name": "Deno",
   "language": "typescript",
   "name": "deno"
  },
  "language_info": {
   "file_extension": ".ts",
   "mimetype": "text/x.typescript",
   "name": "typescript",
   "nb_converter": "script",
   "pygments_lexer": "typescript",
   "version": "5.3.3"
  }
 },
 "nbformat": 4,
 "nbformat_minor": 2
}
